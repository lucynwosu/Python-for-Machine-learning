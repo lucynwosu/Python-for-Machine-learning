{
 "cells": [
  {
   "cell_type": "markdown",
   "metadata": {},
   "source": [
    "# Lucy's work - Logistic Regression (2)\n",
    "\n",
    "\n",
    "**Task description**\n",
    "\n",
    "Build cell regression on the COLON DATASET Using Logistic Regression, "
   ]
  },
  {
   "cell_type": "markdown",
   "metadata": {},
   "source": [
    "### Machine learning - Logistic Regression\n",
    "Logistic regression is a statistical method for analyzing a dataset in which there are one or more independent variables that determine an outcome. The outcome is measured with a dichotomous variable (in which there are only two possible outcomes).\n",
    "\n",
    "Logistic Regression is used when the dependent variable(target) is categorical.\n",
    "\n",
    "For example,\n",
    "\n",
    "To predict whether an email is spam (1) or (0)\n",
    "Whether the tumor is malignant (1) or not (0)\n",
    "\n",
    "In logistic regression, the dependent variable is binary or dichotomous, i.e. it only contains data coded as 1 (TRUE, success, pregnant, etc.) or 0 (FALSE, failure, non-pregnant, etc.).\n",
    "\n",
    "The goal of logistic regression is to find the best fitting (yet biologically reasonable) model to describe the relationship between the dichotomous characteristic of interest (dependent variable = response or outcome variable) and a set of independent (predictor or explanatory) variables. Logistic regression generates the coefficients (and its standard errors and significance levels) of a formula to predict a logit transformation of the probability of presence of the characteristic of interest:\n",
    "\n",
    "Logistic regression equation\n",
    "\n",
    "where p is the probability of presence of the characteristic of interest. The logit transformation is defined as the logged odds:\n",
    "\n",
    "##### Odds=p/(1-p)\n",
    "\n",
    "and\n",
    "\n",
    "##### Logit(p)=ln(p/(1-p))\n",
    "\n",
    "Rather than choosing parameters that minimize the sum of squared errors (like in ordinary regression), estimation in logistic regression chooses parameters that maximize the likelihood of observing the sample values."
   ]
  },
  {
   "cell_type": "code",
   "execution_count": 1,
   "metadata": {},
   "outputs": [],
   "source": [
    "#import the important libraries for data analysis and visualization\n",
    "\n",
    "import pandas as pd\n",
    "import numpy as np\n",
    "import matplotlib.pyplot as plt\n",
    "import seaborn as sns\n",
    "sns.set_style('whitegrid')\n",
    "%matplotlib inline"
   ]
  },
  {
   "cell_type": "markdown",
   "metadata": {},
   "source": [
    "### Importing Data and Gathering data information\n",
    "\n",
    "The colon dataset is a .mat file(Microsoft Access Table) so I used loadmat from scipy.io library to import the data"
   ]
  },
  {
   "cell_type": "code",
   "execution_count": 3,
   "metadata": {},
   "outputs": [],
   "source": [
    "from scipy.io import loadmat"
   ]
  },
  {
   "cell_type": "code",
   "execution_count": 4,
   "metadata": {},
   "outputs": [],
   "source": [
    "colondata = loadmat(r\"set-data-path-here\\data\\data\\colon.mat\")"
   ]
  },
  {
   "cell_type": "code",
   "execution_count": 5,
   "metadata": {},
   "outputs": [
    {
     "data": {
      "text/plain": [
       "{'__header__': b'MATLAB 5.0 MAT-file, Platform: PCWIN64, Created on: Wed Mar 25 15:17:35 2015',\n",
       " '__version__': '1.0',\n",
       " '__globals__': [],\n",
       " 'X': array([[ 2,  0,  0, ...,  0,  2, -2],\n",
       "        [ 2,  2,  0, ...,  2,  0, -2],\n",
       "        [-2,  2,  2, ..., -2, -2, -2],\n",
       "        ...,\n",
       "        [ 0, -2, -2, ...,  0,  2, -2],\n",
       "        [ 0,  0, -2, ...,  0, -2, -2],\n",
       "        [ 0, -2, -2, ...,  0,  0,  0]], dtype=int16),\n",
       " 'Y': array([[-1],\n",
       "        [ 1],\n",
       "        [-1],\n",
       "        [ 1],\n",
       "        [-1],\n",
       "        [ 1],\n",
       "        [-1],\n",
       "        [ 1],\n",
       "        [-1],\n",
       "        [ 1],\n",
       "        [-1],\n",
       "        [ 1],\n",
       "        [-1],\n",
       "        [ 1],\n",
       "        [-1],\n",
       "        [ 1],\n",
       "        [-1],\n",
       "        [ 1],\n",
       "        [-1],\n",
       "        [ 1],\n",
       "        [-1],\n",
       "        [ 1],\n",
       "        [-1],\n",
       "        [ 1],\n",
       "        [-1],\n",
       "        [-1],\n",
       "        [-1],\n",
       "        [-1],\n",
       "        [-1],\n",
       "        [-1],\n",
       "        [-1],\n",
       "        [-1],\n",
       "        [-1],\n",
       "        [-1],\n",
       "        [-1],\n",
       "        [-1],\n",
       "        [-1],\n",
       "        [-1],\n",
       "        [ 1],\n",
       "        [-1],\n",
       "        [-1],\n",
       "        [ 1],\n",
       "        [ 1],\n",
       "        [-1],\n",
       "        [-1],\n",
       "        [-1],\n",
       "        [-1],\n",
       "        [ 1],\n",
       "        [-1],\n",
       "        [ 1],\n",
       "        [ 1],\n",
       "        [-1],\n",
       "        [-1],\n",
       "        [ 1],\n",
       "        [ 1],\n",
       "        [-1],\n",
       "        [-1],\n",
       "        [-1],\n",
       "        [-1],\n",
       "        [ 1],\n",
       "        [-1],\n",
       "        [ 1]], dtype=int16)}"
      ]
     },
     "execution_count": 5,
     "metadata": {},
     "output_type": "execute_result"
    }
   ],
   "source": [
    "colondata"
   ]
  },
  {
   "cell_type": "code",
   "execution_count": 6,
   "metadata": {},
   "outputs": [
    {
     "data": {
      "text/plain": [
       "dict"
      ]
     },
     "execution_count": 6,
     "metadata": {},
     "output_type": "execute_result"
    }
   ],
   "source": [
    "type(colondata)"
   ]
  },
  {
   "cell_type": "code",
   "execution_count": 7,
   "metadata": {},
   "outputs": [
    {
     "data": {
      "text/plain": [
       "dict_keys(['__header__', '__version__', '__globals__', 'X', 'Y'])"
      ]
     },
     "execution_count": 7,
     "metadata": {},
     "output_type": "execute_result"
    }
   ],
   "source": [
    "colondata.keys()"
   ]
  },
  {
   "cell_type": "markdown",
   "metadata": {},
   "source": [
    "The data is a dict data type, therefore before we can read/view the content we will need to convert it to a dataframe using pandas.  "
   ]
  },
  {
   "cell_type": "code",
   "execution_count": 8,
   "metadata": {},
   "outputs": [
    {
     "data": {
      "text/html": [
       "<div>\n",
       "<style scoped>\n",
       "    .dataframe tbody tr th:only-of-type {\n",
       "        vertical-align: middle;\n",
       "    }\n",
       "\n",
       "    .dataframe tbody tr th {\n",
       "        vertical-align: top;\n",
       "    }\n",
       "\n",
       "    .dataframe thead th {\n",
       "        text-align: right;\n",
       "    }\n",
       "</style>\n",
       "<table border=\"1\" class=\"dataframe\">\n",
       "  <thead>\n",
       "    <tr style=\"text-align: right;\">\n",
       "      <th></th>\n",
       "      <th>0</th>\n",
       "      <th>1</th>\n",
       "      <th>2</th>\n",
       "      <th>3</th>\n",
       "      <th>4</th>\n",
       "      <th>5</th>\n",
       "      <th>6</th>\n",
       "      <th>7</th>\n",
       "      <th>8</th>\n",
       "      <th>9</th>\n",
       "      <th>...</th>\n",
       "      <th>1990</th>\n",
       "      <th>1991</th>\n",
       "      <th>1992</th>\n",
       "      <th>1993</th>\n",
       "      <th>1994</th>\n",
       "      <th>1995</th>\n",
       "      <th>1996</th>\n",
       "      <th>1997</th>\n",
       "      <th>1998</th>\n",
       "      <th>1999</th>\n",
       "    </tr>\n",
       "  </thead>\n",
       "  <tbody>\n",
       "    <tr>\n",
       "      <th>0</th>\n",
       "      <td>2</td>\n",
       "      <td>0</td>\n",
       "      <td>0</td>\n",
       "      <td>0</td>\n",
       "      <td>-2</td>\n",
       "      <td>0</td>\n",
       "      <td>-2</td>\n",
       "      <td>0</td>\n",
       "      <td>2</td>\n",
       "      <td>0</td>\n",
       "      <td>...</td>\n",
       "      <td>-2</td>\n",
       "      <td>0</td>\n",
       "      <td>0</td>\n",
       "      <td>0</td>\n",
       "      <td>0</td>\n",
       "      <td>-2</td>\n",
       "      <td>0</td>\n",
       "      <td>0</td>\n",
       "      <td>2</td>\n",
       "      <td>-2</td>\n",
       "    </tr>\n",
       "    <tr>\n",
       "      <th>1</th>\n",
       "      <td>2</td>\n",
       "      <td>2</td>\n",
       "      <td>0</td>\n",
       "      <td>0</td>\n",
       "      <td>-2</td>\n",
       "      <td>0</td>\n",
       "      <td>0</td>\n",
       "      <td>0</td>\n",
       "      <td>2</td>\n",
       "      <td>0</td>\n",
       "      <td>...</td>\n",
       "      <td>-2</td>\n",
       "      <td>0</td>\n",
       "      <td>-2</td>\n",
       "      <td>0</td>\n",
       "      <td>-2</td>\n",
       "      <td>-2</td>\n",
       "      <td>2</td>\n",
       "      <td>2</td>\n",
       "      <td>0</td>\n",
       "      <td>-2</td>\n",
       "    </tr>\n",
       "    <tr>\n",
       "      <th>2</th>\n",
       "      <td>-2</td>\n",
       "      <td>2</td>\n",
       "      <td>2</td>\n",
       "      <td>0</td>\n",
       "      <td>-2</td>\n",
       "      <td>-2</td>\n",
       "      <td>-2</td>\n",
       "      <td>-2</td>\n",
       "      <td>-2</td>\n",
       "      <td>-2</td>\n",
       "      <td>...</td>\n",
       "      <td>0</td>\n",
       "      <td>0</td>\n",
       "      <td>-2</td>\n",
       "      <td>2</td>\n",
       "      <td>-2</td>\n",
       "      <td>0</td>\n",
       "      <td>-2</td>\n",
       "      <td>-2</td>\n",
       "      <td>-2</td>\n",
       "      <td>-2</td>\n",
       "    </tr>\n",
       "    <tr>\n",
       "      <th>3</th>\n",
       "      <td>0</td>\n",
       "      <td>2</td>\n",
       "      <td>2</td>\n",
       "      <td>0</td>\n",
       "      <td>-2</td>\n",
       "      <td>-2</td>\n",
       "      <td>-2</td>\n",
       "      <td>-2</td>\n",
       "      <td>0</td>\n",
       "      <td>0</td>\n",
       "      <td>...</td>\n",
       "      <td>0</td>\n",
       "      <td>-2</td>\n",
       "      <td>-2</td>\n",
       "      <td>2</td>\n",
       "      <td>-2</td>\n",
       "      <td>-2</td>\n",
       "      <td>0</td>\n",
       "      <td>-2</td>\n",
       "      <td>0</td>\n",
       "      <td>-2</td>\n",
       "    </tr>\n",
       "    <tr>\n",
       "      <th>4</th>\n",
       "      <td>-2</td>\n",
       "      <td>-2</td>\n",
       "      <td>0</td>\n",
       "      <td>0</td>\n",
       "      <td>-2</td>\n",
       "      <td>-2</td>\n",
       "      <td>-2</td>\n",
       "      <td>0</td>\n",
       "      <td>-2</td>\n",
       "      <td>0</td>\n",
       "      <td>...</td>\n",
       "      <td>-2</td>\n",
       "      <td>0</td>\n",
       "      <td>-2</td>\n",
       "      <td>-2</td>\n",
       "      <td>-2</td>\n",
       "      <td>0</td>\n",
       "      <td>0</td>\n",
       "      <td>-2</td>\n",
       "      <td>-2</td>\n",
       "      <td>0</td>\n",
       "    </tr>\n",
       "  </tbody>\n",
       "</table>\n",
       "<p>5 rows × 2000 columns</p>\n",
       "</div>"
      ],
      "text/plain": [
       "   0     1     2     3     4     5     6     7     8     9     ...  1990  \\\n",
       "0     2     0     0     0    -2     0    -2     0     2     0  ...    -2   \n",
       "1     2     2     0     0    -2     0     0     0     2     0  ...    -2   \n",
       "2    -2     2     2     0    -2    -2    -2    -2    -2    -2  ...     0   \n",
       "3     0     2     2     0    -2    -2    -2    -2     0     0  ...     0   \n",
       "4    -2    -2     0     0    -2    -2    -2     0    -2     0  ...    -2   \n",
       "\n",
       "   1991  1992  1993  1994  1995  1996  1997  1998  1999  \n",
       "0     0     0     0     0    -2     0     0     2    -2  \n",
       "1     0    -2     0    -2    -2     2     2     0    -2  \n",
       "2     0    -2     2    -2     0    -2    -2    -2    -2  \n",
       "3    -2    -2     2    -2    -2     0    -2     0    -2  \n",
       "4     0    -2    -2    -2     0     0    -2    -2     0  \n",
       "\n",
       "[5 rows x 2000 columns]"
      ]
     },
     "execution_count": 8,
     "metadata": {},
     "output_type": "execute_result"
    }
   ],
   "source": [
    "mcolon = pd.DataFrame(np.hstack(([colondata['X']])))\n",
    "mcolon.head()"
   ]
  },
  {
   "cell_type": "markdown",
   "metadata": {},
   "source": [
    "From the data head displayed above it can be seen that the data has no header. I have therefore used the steps below to assign header to my mcolon data"
   ]
  },
  {
   "cell_type": "markdown",
   "metadata": {},
   "source": [
    "####  Importing a column header file and appending its value to the original X data\n",
    "\n",
    "Create an array list containing the header names for the data\n",
    "Because the number of columns of large(2000), I have created a csv file having the desired header namaes and imported it into python below:  "
   ]
  },
  {
   "cell_type": "code",
   "execution_count": 9,
   "metadata": {},
   "outputs": [],
   "source": [
    "dataHeader = r'set-data-path-here\\data\\columnHeader.xlsx'"
   ]
  },
  {
   "cell_type": "code",
   "execution_count": 10,
   "metadata": {},
   "outputs": [],
   "source": [
    "df = pd.read_excel(dataHeader)"
   ]
  },
  {
   "cell_type": "code",
   "execution_count": 11,
   "metadata": {},
   "outputs": [],
   "source": [
    "columnHeader = list(df['columnHeader'])"
   ]
  },
  {
   "cell_type": "code",
   "execution_count": 12,
   "metadata": {},
   "outputs": [
    {
     "name": "stdout",
     "output_type": "stream",
     "text": [
      "['C1', 'C2', 'C3', 'C4', 'C5', 'C6', 'C7', 'C8', 'C9', 'C10', 'C11', 'C12', 'C13', 'C14', 'C15', 'C16', 'C17', 'C18', 'C19', 'C20', 'C21', 'C22', 'C23', 'C24', 'C25', 'C26', 'C27', 'C28', 'C29', 'C30', 'C31', 'C32', 'C33', 'C34', 'C35', 'C36', 'C37', 'C38', 'C39', 'C40', 'C41', 'C42', 'C43', 'C44', 'C45', 'C46', 'C47', 'C48', 'C49', 'C50', 'C51', 'C52', 'C53', 'C54', 'C55', 'C56', 'C57', 'C58', 'C59', 'C60', 'C61', 'C62', 'C63', 'C64', 'C65', 'C66', 'C67', 'C68', 'C69', 'C70', 'C71', 'C72', 'C73', 'C74', 'C75', 'C76', 'C77', 'C78', 'C79', 'C80', 'C81', 'C82', 'C83', 'C84', 'C85', 'C86', 'C87', 'C88', 'C89', 'C90', 'C91', 'C92', 'C93', 'C94', 'C95', 'C96', 'C97', 'C98', 'C99', 'C100', 'C101', 'C102', 'C103', 'C104', 'C105', 'C106', 'C107', 'C108', 'C109', 'C110', 'C111', 'C112', 'C113', 'C114', 'C115', 'C116', 'C117', 'C118', 'C119', 'C120', 'C121', 'C122', 'C123', 'C124', 'C125', 'C126', 'C127', 'C128', 'C129', 'C130', 'C131', 'C132', 'C133', 'C134', 'C135', 'C136', 'C137', 'C138', 'C139', 'C140', 'C141', 'C142', 'C143', 'C144', 'C145', 'C146', 'C147', 'C148', 'C149', 'C150', 'C151', 'C152', 'C153', 'C154', 'C155', 'C156', 'C157', 'C158', 'C159', 'C160', 'C161', 'C162', 'C163', 'C164', 'C165', 'C166', 'C167', 'C168', 'C169', 'C170', 'C171', 'C172', 'C173', 'C174', 'C175', 'C176', 'C177', 'C178', 'C179', 'C180', 'C181', 'C182', 'C183', 'C184', 'C185', 'C186', 'C187', 'C188', 'C189', 'C190', 'C191', 'C192', 'C193', 'C194', 'C195', 'C196', 'C197', 'C198', 'C199', 'C200', 'C201', 'C202', 'C203', 'C204', 'C205', 'C206', 'C207', 'C208', 'C209', 'C210', 'C211', 'C212', 'C213', 'C214', 'C215', 'C216', 'C217', 'C218', 'C219', 'C220', 'C221', 'C222', 'C223', 'C224', 'C225', 'C226', 'C227', 'C228', 'C229', 'C230', 'C231', 'C232', 'C233', 'C234', 'C235', 'C236', 'C237', 'C238', 'C239', 'C240', 'C241', 'C242', 'C243', 'C244', 'C245', 'C246', 'C247', 'C248', 'C249', 'C250', 'C251', 'C252', 'C253', 'C254', 'C255', 'C256', 'C257', 'C258', 'C259', 'C260', 'C261', 'C262', 'C263', 'C264', 'C265', 'C266', 'C267', 'C268', 'C269', 'C270', 'C271', 'C272', 'C273', 'C274', 'C275', 'C276', 'C277', 'C278', 'C279', 'C280', 'C281', 'C282', 'C283', 'C284', 'C285', 'C286', 'C287', 'C288', 'C289', 'C290', 'C291', 'C292', 'C293', 'C294', 'C295', 'C296', 'C297', 'C298', 'C299', 'C300', 'C301', 'C302', 'C303', 'C304', 'C305', 'C306', 'C307', 'C308', 'C309', 'C310', 'C311', 'C312', 'C313', 'C314', 'C315', 'C316', 'C317', 'C318', 'C319', 'C320', 'C321', 'C322', 'C323', 'C324', 'C325', 'C326', 'C327', 'C328', 'C329', 'C330', 'C331', 'C332', 'C333', 'C334', 'C335', 'C336', 'C337', 'C338', 'C339', 'C340', 'C341', 'C342', 'C343', 'C344', 'C345', 'C346', 'C347', 'C348', 'C349', 'C350', 'C351', 'C352', 'C353', 'C354', 'C355', 'C356', 'C357', 'C358', 'C359', 'C360', 'C361', 'C362', 'C363', 'C364', 'C365', 'C366', 'C367', 'C368', 'C369', 'C370', 'C371', 'C372', 'C373', 'C374', 'C375', 'C376', 'C377', 'C378', 'C379', 'C380', 'C381', 'C382', 'C383', 'C384', 'C385', 'C386', 'C387', 'C388', 'C389', 'C390', 'C391', 'C392', 'C393', 'C394', 'C395', 'C396', 'C397', 'C398', 'C399', 'C400', 'C401', 'C402', 'C403', 'C404', 'C405', 'C406', 'C407', 'C408', 'C409', 'C410', 'C411', 'C412', 'C413', 'C414', 'C415', 'C416', 'C417', 'C418', 'C419', 'C420', 'C421', 'C422', 'C423', 'C424', 'C425', 'C426', 'C427', 'C428', 'C429', 'C430', 'C431', 'C432', 'C433', 'C434', 'C435', 'C436', 'C437', 'C438', 'C439', 'C440', 'C441', 'C442', 'C443', 'C444', 'C445', 'C446', 'C447', 'C448', 'C449', 'C450', 'C451', 'C452', 'C453', 'C454', 'C455', 'C456', 'C457', 'C458', 'C459', 'C460', 'C461', 'C462', 'C463', 'C464', 'C465', 'C466', 'C467', 'C468', 'C469', 'C470', 'C471', 'C472', 'C473', 'C474', 'C475', 'C476', 'C477', 'C478', 'C479', 'C480', 'C481', 'C482', 'C483', 'C484', 'C485', 'C486', 'C487', 'C488', 'C489', 'C490', 'C491', 'C492', 'C493', 'C494', 'C495', 'C496', 'C497', 'C498', 'C499', 'C500', 'C501', 'C502', 'C503', 'C504', 'C505', 'C506', 'C507', 'C508', 'C509', 'C510', 'C511', 'C512', 'C513', 'C514', 'C515', 'C516', 'C517', 'C518', 'C519', 'C520', 'C521', 'C522', 'C523', 'C524', 'C525', 'C526', 'C527', 'C528', 'C529', 'C530', 'C531', 'C532', 'C533', 'C534', 'C535', 'C536', 'C537', 'C538', 'C539', 'C540', 'C541', 'C542', 'C543', 'C544', 'C545', 'C546', 'C547', 'C548', 'C549', 'C550', 'C551', 'C552', 'C553', 'C554', 'C555', 'C556', 'C557', 'C558', 'C559', 'C560', 'C561', 'C562', 'C563', 'C564', 'C565', 'C566', 'C567', 'C568', 'C569', 'C570', 'C571', 'C572', 'C573', 'C574', 'C575', 'C576', 'C577', 'C578', 'C579', 'C580', 'C581', 'C582', 'C583', 'C584', 'C585', 'C586', 'C587', 'C588', 'C589', 'C590', 'C591', 'C592', 'C593', 'C594', 'C595', 'C596', 'C597', 'C598', 'C599', 'C600', 'C601', 'C602', 'C603', 'C604', 'C605', 'C606', 'C607', 'C608', 'C609', 'C610', 'C611', 'C612', 'C613', 'C614', 'C615', 'C616', 'C617', 'C618', 'C619', 'C620', 'C621', 'C622', 'C623', 'C624', 'C625', 'C626', 'C627', 'C628', 'C629', 'C630', 'C631', 'C632', 'C633', 'C634', 'C635', 'C636', 'C637', 'C638', 'C639', 'C640', 'C641', 'C642', 'C643', 'C644', 'C645', 'C646', 'C647', 'C648', 'C649', 'C650', 'C651', 'C652', 'C653', 'C654', 'C655', 'C656', 'C657', 'C658', 'C659', 'C660', 'C661', 'C662', 'C663', 'C664', 'C665', 'C666', 'C667', 'C668', 'C669', 'C670', 'C671', 'C672', 'C673', 'C674', 'C675', 'C676', 'C677', 'C678', 'C679', 'C680', 'C681', 'C682', 'C683', 'C684', 'C685', 'C686', 'C687', 'C688', 'C689', 'C690', 'C691', 'C692', 'C693', 'C694', 'C695', 'C696', 'C697', 'C698', 'C699', 'C700', 'C701', 'C702', 'C703', 'C704', 'C705', 'C706', 'C707', 'C708', 'C709', 'C710', 'C711', 'C712', 'C713', 'C714', 'C715', 'C716', 'C717', 'C718', 'C719', 'C720', 'C721', 'C722', 'C723', 'C724', 'C725', 'C726', 'C727', 'C728', 'C729', 'C730', 'C731', 'C732', 'C733', 'C734', 'C735', 'C736', 'C737', 'C738', 'C739', 'C740', 'C741', 'C742', 'C743', 'C744', 'C745', 'C746', 'C747', 'C748', 'C749', 'C750', 'C751', 'C752', 'C753', 'C754', 'C755', 'C756', 'C757', 'C758', 'C759', 'C760', 'C761', 'C762', 'C763', 'C764', 'C765', 'C766', 'C767', 'C768', 'C769', 'C770', 'C771', 'C772', 'C773', 'C774', 'C775', 'C776', 'C777', 'C778', 'C779', 'C780', 'C781', 'C782', 'C783', 'C784', 'C785', 'C786', 'C787', 'C788', 'C789', 'C790', 'C791', 'C792', 'C793', 'C794', 'C795', 'C796', 'C797', 'C798', 'C799', 'C800', 'C801', 'C802', 'C803', 'C804', 'C805', 'C806', 'C807', 'C808', 'C809', 'C810', 'C811', 'C812', 'C813', 'C814', 'C815', 'C816', 'C817', 'C818', 'C819', 'C820', 'C821', 'C822', 'C823', 'C824', 'C825', 'C826', 'C827', 'C828', 'C829', 'C830', 'C831', 'C832', 'C833', 'C834', 'C835', 'C836', 'C837', 'C838', 'C839', 'C840', 'C841', 'C842', 'C843', 'C844', 'C845', 'C846', 'C847', 'C848', 'C849', 'C850', 'C851', 'C852', 'C853', 'C854', 'C855', 'C856', 'C857', 'C858', 'C859', 'C860', 'C861', 'C862', 'C863', 'C864', 'C865', 'C866', 'C867', 'C868', 'C869', 'C870', 'C871', 'C872', 'C873', 'C874', 'C875', 'C876', 'C877', 'C878', 'C879', 'C880', 'C881', 'C882', 'C883', 'C884', 'C885', 'C886', 'C887', 'C888', 'C889', 'C890', 'C891', 'C892', 'C893', 'C894', 'C895', 'C896', 'C897', 'C898', 'C899', 'C900', 'C901', 'C902', 'C903', 'C904', 'C905', 'C906', 'C907', 'C908', 'C909', 'C910', 'C911', 'C912', 'C913', 'C914', 'C915', 'C916', 'C917', 'C918', 'C919', 'C920', 'C921', 'C922', 'C923', 'C924', 'C925', 'C926', 'C927', 'C928', 'C929', 'C930', 'C931', 'C932', 'C933', 'C934', 'C935', 'C936', 'C937', 'C938', 'C939', 'C940', 'C941', 'C942', 'C943', 'C944', 'C945', 'C946', 'C947', 'C948', 'C949', 'C950', 'C951', 'C952', 'C953', 'C954', 'C955', 'C956', 'C957', 'C958', 'C959', 'C960', 'C961', 'C962', 'C963', 'C964', 'C965', 'C966', 'C967', 'C968', 'C969', 'C970', 'C971', 'C972', 'C973', 'C974', 'C975', 'C976', 'C977', 'C978', 'C979', 'C980', 'C981', 'C982', 'C983', 'C984', 'C985', 'C986', 'C987', 'C988', 'C989', 'C990', 'C991', 'C992', 'C993', 'C994', 'C995', 'C996', 'C997', 'C998', 'C999', 'C1000', 'C1001', 'C1002', 'C1003', 'C1004', 'C1005', 'C1006', 'C1007', 'C1008', 'C1009', 'C1010', 'C1011', 'C1012', 'C1013', 'C1014', 'C1015', 'C1016', 'C1017', 'C1018', 'C1019', 'C1020', 'C1021', 'C1022', 'C1023', 'C1024', 'C1025', 'C1026', 'C1027', 'C1028', 'C1029', 'C1030', 'C1031', 'C1032', 'C1033', 'C1034', 'C1035', 'C1036', 'C1037', 'C1038', 'C1039', 'C1040', 'C1041', 'C1042', 'C1043', 'C1044', 'C1045', 'C1046', 'C1047', 'C1048', 'C1049', 'C1050', 'C1051', 'C1052', 'C1053', 'C1054', 'C1055', 'C1056', 'C1057', 'C1058', 'C1059', 'C1060', 'C1061', 'C1062', 'C1063', 'C1064', 'C1065', 'C1066', 'C1067', 'C1068', 'C1069', 'C1070', 'C1071', 'C1072', 'C1073', 'C1074', 'C1075', 'C1076', 'C1077', 'C1078', 'C1079', 'C1080', 'C1081', 'C1082', 'C1083', 'C1084', 'C1085', 'C1086', 'C1087', 'C1088', 'C1089', 'C1090', 'C1091', 'C1092', 'C1093', 'C1094', 'C1095', 'C1096', 'C1097', 'C1098', 'C1099', 'C1100', 'C1101', 'C1102', 'C1103', 'C1104', 'C1105', 'C1106', 'C1107', 'C1108', 'C1109', 'C1110', 'C1111', 'C1112', 'C1113', 'C1114', 'C1115', 'C1116', 'C1117', 'C1118', 'C1119', 'C1120', 'C1121', 'C1122', 'C1123', 'C1124', 'C1125', 'C1126', 'C1127', 'C1128', 'C1129', 'C1130', 'C1131', 'C1132', 'C1133', 'C1134', 'C1135', 'C1136', 'C1137', 'C1138', 'C1139', 'C1140', 'C1141', 'C1142', 'C1143', 'C1144', 'C1145', 'C1146', 'C1147', 'C1148', 'C1149', 'C1150', 'C1151', 'C1152', 'C1153', 'C1154', 'C1155', 'C1156', 'C1157', 'C1158', 'C1159', 'C1160', 'C1161', 'C1162', 'C1163', 'C1164', 'C1165', 'C1166', 'C1167', 'C1168', 'C1169', 'C1170', 'C1171', 'C1172', 'C1173', 'C1174', 'C1175', 'C1176', 'C1177', 'C1178', 'C1179', 'C1180', 'C1181', 'C1182', 'C1183', 'C1184', 'C1185', 'C1186', 'C1187', 'C1188', 'C1189', 'C1190', 'C1191', 'C1192', 'C1193', 'C1194', 'C1195', 'C1196', 'C1197', 'C1198', 'C1199', 'C1200', 'C1201', 'C1202', 'C1203', 'C1204', 'C1205', 'C1206', 'C1207', 'C1208', 'C1209', 'C1210', 'C1211', 'C1212', 'C1213', 'C1214', 'C1215', 'C1216', 'C1217', 'C1218', 'C1219', 'C1220', 'C1221', 'C1222', 'C1223', 'C1224', 'C1225', 'C1226', 'C1227', 'C1228', 'C1229', 'C1230', 'C1231', 'C1232', 'C1233', 'C1234', 'C1235', 'C1236', 'C1237', 'C1238', 'C1239', 'C1240', 'C1241', 'C1242', 'C1243', 'C1244', 'C1245', 'C1246', 'C1247', 'C1248', 'C1249', 'C1250', 'C1251', 'C1252', 'C1253', 'C1254', 'C1255', 'C1256', 'C1257', 'C1258', 'C1259', 'C1260', 'C1261', 'C1262', 'C1263', 'C1264', 'C1265', 'C1266', 'C1267', 'C1268', 'C1269', 'C1270', 'C1271', 'C1272', 'C1273', 'C1274', 'C1275', 'C1276', 'C1277', 'C1278', 'C1279', 'C1280', 'C1281', 'C1282', 'C1283', 'C1284', 'C1285', 'C1286', 'C1287', 'C1288', 'C1289', 'C1290', 'C1291', 'C1292', 'C1293', 'C1294', 'C1295', 'C1296', 'C1297', 'C1298', 'C1299', 'C1300', 'C1301', 'C1302', 'C1303', 'C1304', 'C1305', 'C1306', 'C1307', 'C1308', 'C1309', 'C1310', 'C1311', 'C1312', 'C1313', 'C1314', 'C1315', 'C1316', 'C1317', 'C1318', 'C1319', 'C1320', 'C1321', 'C1322', 'C1323', 'C1324', 'C1325', 'C1326', 'C1327', 'C1328', 'C1329', 'C1330', 'C1331', 'C1332', 'C1333', 'C1334', 'C1335', 'C1336', 'C1337', 'C1338', 'C1339', 'C1340', 'C1341', 'C1342', 'C1343', 'C1344', 'C1345', 'C1346', 'C1347', 'C1348', 'C1349', 'C1350', 'C1351', 'C1352', 'C1353', 'C1354', 'C1355', 'C1356', 'C1357', 'C1358', 'C1359', 'C1360', 'C1361', 'C1362', 'C1363', 'C1364', 'C1365', 'C1366', 'C1367', 'C1368', 'C1369', 'C1370', 'C1371', 'C1372', 'C1373', 'C1374', 'C1375', 'C1376', 'C1377', 'C1378', 'C1379', 'C1380', 'C1381', 'C1382', 'C1383', 'C1384', 'C1385', 'C1386', 'C1387', 'C1388', 'C1389', 'C1390', 'C1391', 'C1392', 'C1393', 'C1394', 'C1395', 'C1396', 'C1397', 'C1398', 'C1399', 'C1400', 'C1401', 'C1402', 'C1403', 'C1404', 'C1405', 'C1406', 'C1407', 'C1408', 'C1409', 'C1410', 'C1411', 'C1412', 'C1413', 'C1414', 'C1415', 'C1416', 'C1417', 'C1418', 'C1419', 'C1420', 'C1421', 'C1422', 'C1423', 'C1424', 'C1425', 'C1426', 'C1427', 'C1428', 'C1429', 'C1430', 'C1431', 'C1432', 'C1433', 'C1434', 'C1435', 'C1436', 'C1437', 'C1438', 'C1439', 'C1440', 'C1441', 'C1442', 'C1443', 'C1444', 'C1445', 'C1446', 'C1447', 'C1448', 'C1449', 'C1450', 'C1451', 'C1452', 'C1453', 'C1454', 'C1455', 'C1456', 'C1457', 'C1458', 'C1459', 'C1460', 'C1461', 'C1462', 'C1463', 'C1464', 'C1465', 'C1466', 'C1467', 'C1468', 'C1469', 'C1470', 'C1471', 'C1472', 'C1473', 'C1474', 'C1475', 'C1476', 'C1477', 'C1478', 'C1479', 'C1480', 'C1481', 'C1482', 'C1483', 'C1484', 'C1485', 'C1486', 'C1487', 'C1488', 'C1489', 'C1490', 'C1491', 'C1492', 'C1493', 'C1494', 'C1495', 'C1496', 'C1497', 'C1498', 'C1499', 'C1500', 'C1501', 'C1502', 'C1503', 'C1504', 'C1505', 'C1506', 'C1507', 'C1508', 'C1509', 'C1510', 'C1511', 'C1512', 'C1513', 'C1514', 'C1515', 'C1516', 'C1517', 'C1518', 'C1519', 'C1520', 'C1521', 'C1522', 'C1523', 'C1524', 'C1525', 'C1526', 'C1527', 'C1528', 'C1529', 'C1530', 'C1531', 'C1532', 'C1533', 'C1534', 'C1535', 'C1536', 'C1537', 'C1538', 'C1539', 'C1540', 'C1541', 'C1542', 'C1543', 'C1544', 'C1545', 'C1546', 'C1547', 'C1548', 'C1549', 'C1550', 'C1551', 'C1552', 'C1553', 'C1554', 'C1555', 'C1556', 'C1557', 'C1558', 'C1559', 'C1560', 'C1561', 'C1562', 'C1563', 'C1564', 'C1565', 'C1566', 'C1567', 'C1568', 'C1569', 'C1570', 'C1571', 'C1572', 'C1573', 'C1574', 'C1575', 'C1576', 'C1577', 'C1578', 'C1579', 'C1580', 'C1581', 'C1582', 'C1583', 'C1584', 'C1585', 'C1586', 'C1587', 'C1588', 'C1589', 'C1590', 'C1591', 'C1592', 'C1593', 'C1594', 'C1595', 'C1596', 'C1597', 'C1598', 'C1599', 'C1600', 'C1601', 'C1602', 'C1603', 'C1604', 'C1605', 'C1606', 'C1607', 'C1608', 'C1609', 'C1610', 'C1611', 'C1612', 'C1613', 'C1614', 'C1615', 'C1616', 'C1617', 'C1618', 'C1619', 'C1620', 'C1621', 'C1622', 'C1623', 'C1624', 'C1625', 'C1626', 'C1627', 'C1628', 'C1629', 'C1630', 'C1631', 'C1632', 'C1633', 'C1634', 'C1635', 'C1636', 'C1637', 'C1638', 'C1639', 'C1640', 'C1641', 'C1642', 'C1643', 'C1644', 'C1645', 'C1646', 'C1647', 'C1648', 'C1649', 'C1650', 'C1651', 'C1652', 'C1653', 'C1654', 'C1655', 'C1656', 'C1657', 'C1658', 'C1659', 'C1660', 'C1661', 'C1662', 'C1663', 'C1664', 'C1665', 'C1666', 'C1667', 'C1668', 'C1669', 'C1670', 'C1671', 'C1672', 'C1673', 'C1674', 'C1675', 'C1676', 'C1677', 'C1678', 'C1679', 'C1680', 'C1681', 'C1682', 'C1683', 'C1684', 'C1685', 'C1686', 'C1687', 'C1688', 'C1689', 'C1690', 'C1691', 'C1692', 'C1693', 'C1694', 'C1695', 'C1696', 'C1697', 'C1698', 'C1699', 'C1700', 'C1701', 'C1702', 'C1703', 'C1704', 'C1705', 'C1706', 'C1707', 'C1708', 'C1709', 'C1710', 'C1711', 'C1712', 'C1713', 'C1714', 'C1715', 'C1716', 'C1717', 'C1718', 'C1719', 'C1720', 'C1721', 'C1722', 'C1723', 'C1724', 'C1725', 'C1726', 'C1727', 'C1728', 'C1729', 'C1730', 'C1731', 'C1732', 'C1733', 'C1734', 'C1735', 'C1736', 'C1737', 'C1738', 'C1739', 'C1740', 'C1741', 'C1742', 'C1743', 'C1744', 'C1745', 'C1746', 'C1747', 'C1748', 'C1749', 'C1750', 'C1751', 'C1752', 'C1753', 'C1754', 'C1755', 'C1756', 'C1757', 'C1758', 'C1759', 'C1760', 'C1761', 'C1762', 'C1763', 'C1764', 'C1765', 'C1766', 'C1767', 'C1768', 'C1769', 'C1770', 'C1771', 'C1772', 'C1773', 'C1774', 'C1775', 'C1776', 'C1777', 'C1778', 'C1779', 'C1780', 'C1781', 'C1782', 'C1783', 'C1784', 'C1785', 'C1786', 'C1787', 'C1788', 'C1789', 'C1790', 'C1791', 'C1792', 'C1793', 'C1794', 'C1795', 'C1796', 'C1797', 'C1798', 'C1799', 'C1800', 'C1801', 'C1802', 'C1803', 'C1804', 'C1805', 'C1806', 'C1807', 'C1808', 'C1809', 'C1810', 'C1811', 'C1812', 'C1813', 'C1814', 'C1815', 'C1816', 'C1817', 'C1818', 'C1819', 'C1820', 'C1821', 'C1822', 'C1823', 'C1824', 'C1825', 'C1826', 'C1827', 'C1828', 'C1829', 'C1830', 'C1831', 'C1832', 'C1833', 'C1834', 'C1835', 'C1836', 'C1837', 'C1838', 'C1839', 'C1840', 'C1841', 'C1842', 'C1843', 'C1844', 'C1845', 'C1846', 'C1847', 'C1848', 'C1849', 'C1850', 'C1851', 'C1852', 'C1853', 'C1854', 'C1855', 'C1856', 'C1857', 'C1858', 'C1859', 'C1860', 'C1861', 'C1862', 'C1863', 'C1864', 'C1865', 'C1866', 'C1867', 'C1868', 'C1869', 'C1870', 'C1871', 'C1872', 'C1873', 'C1874', 'C1875', 'C1876', 'C1877', 'C1878', 'C1879', 'C1880', 'C1881', 'C1882', 'C1883', 'C1884', 'C1885', 'C1886', 'C1887', 'C1888', 'C1889', 'C1890', 'C1891', 'C1892', 'C1893', 'C1894', 'C1895', 'C1896', 'C1897', 'C1898', 'C1899', 'C1900', 'C1901', 'C1902', 'C1903', 'C1904', 'C1905', 'C1906', 'C1907', 'C1908', 'C1909', 'C1910', 'C1911', 'C1912', 'C1913', 'C1914', 'C1915', 'C1916', 'C1917', 'C1918', 'C1919', 'C1920', 'C1921', 'C1922', 'C1923', 'C1924', 'C1925', 'C1926', 'C1927', 'C1928', 'C1929', 'C1930', 'C1931', 'C1932', 'C1933', 'C1934', 'C1935', 'C1936', 'C1937', 'C1938', 'C1939', 'C1940', 'C1941', 'C1942', 'C1943', 'C1944', 'C1945', 'C1946', 'C1947', 'C1948', 'C1949', 'C1950', 'C1951', 'C1952', 'C1953', 'C1954', 'C1955', 'C1956', 'C1957', 'C1958', 'C1959', 'C1960', 'C1961', 'C1962', 'C1963', 'C1964', 'C1965', 'C1966', 'C1967', 'C1968', 'C1969', 'C1970', 'C1971', 'C1972', 'C1973', 'C1974', 'C1975', 'C1976', 'C1977', 'C1978', 'C1979', 'C1980', 'C1981', 'C1982', 'C1983', 'C1984', 'C1985', 'C1986', 'C1987', 'C1988', 'C1989', 'C1990', 'C1991', 'C1992', 'C1993', 'C1994', 'C1995', 'C1996', 'C1997', 'C1998', 'C1999', 'C2000']\n"
     ]
    }
   ],
   "source": [
    "print(columnHeader)"
   ]
  },
  {
   "cell_type": "code",
   "execution_count": 13,
   "metadata": {},
   "outputs": [
    {
     "data": {
      "text/plain": [
       "RangeIndex(start=0, stop=2000, step=1)"
      ]
     },
     "execution_count": 13,
     "metadata": {},
     "output_type": "execute_result"
    }
   ],
   "source": [
    "mcolon.columns"
   ]
  },
  {
   "cell_type": "code",
   "execution_count": 14,
   "metadata": {},
   "outputs": [],
   "source": [
    "mcolon.columns = columnHeader"
   ]
  },
  {
   "cell_type": "code",
   "execution_count": 15,
   "metadata": {},
   "outputs": [
    {
     "data": {
      "text/html": [
       "<div>\n",
       "<style scoped>\n",
       "    .dataframe tbody tr th:only-of-type {\n",
       "        vertical-align: middle;\n",
       "    }\n",
       "\n",
       "    .dataframe tbody tr th {\n",
       "        vertical-align: top;\n",
       "    }\n",
       "\n",
       "    .dataframe thead th {\n",
       "        text-align: right;\n",
       "    }\n",
       "</style>\n",
       "<table border=\"1\" class=\"dataframe\">\n",
       "  <thead>\n",
       "    <tr style=\"text-align: right;\">\n",
       "      <th></th>\n",
       "      <th>C1</th>\n",
       "      <th>C2</th>\n",
       "      <th>C3</th>\n",
       "      <th>C4</th>\n",
       "      <th>C5</th>\n",
       "      <th>C6</th>\n",
       "      <th>C7</th>\n",
       "      <th>C8</th>\n",
       "      <th>C9</th>\n",
       "      <th>C10</th>\n",
       "      <th>...</th>\n",
       "      <th>C1991</th>\n",
       "      <th>C1992</th>\n",
       "      <th>C1993</th>\n",
       "      <th>C1994</th>\n",
       "      <th>C1995</th>\n",
       "      <th>C1996</th>\n",
       "      <th>C1997</th>\n",
       "      <th>C1998</th>\n",
       "      <th>C1999</th>\n",
       "      <th>C2000</th>\n",
       "    </tr>\n",
       "  </thead>\n",
       "  <tbody>\n",
       "    <tr>\n",
       "      <th>0</th>\n",
       "      <td>2</td>\n",
       "      <td>0</td>\n",
       "      <td>0</td>\n",
       "      <td>0</td>\n",
       "      <td>-2</td>\n",
       "      <td>0</td>\n",
       "      <td>-2</td>\n",
       "      <td>0</td>\n",
       "      <td>2</td>\n",
       "      <td>0</td>\n",
       "      <td>...</td>\n",
       "      <td>-2</td>\n",
       "      <td>0</td>\n",
       "      <td>0</td>\n",
       "      <td>0</td>\n",
       "      <td>0</td>\n",
       "      <td>-2</td>\n",
       "      <td>0</td>\n",
       "      <td>0</td>\n",
       "      <td>2</td>\n",
       "      <td>-2</td>\n",
       "    </tr>\n",
       "    <tr>\n",
       "      <th>1</th>\n",
       "      <td>2</td>\n",
       "      <td>2</td>\n",
       "      <td>0</td>\n",
       "      <td>0</td>\n",
       "      <td>-2</td>\n",
       "      <td>0</td>\n",
       "      <td>0</td>\n",
       "      <td>0</td>\n",
       "      <td>2</td>\n",
       "      <td>0</td>\n",
       "      <td>...</td>\n",
       "      <td>-2</td>\n",
       "      <td>0</td>\n",
       "      <td>-2</td>\n",
       "      <td>0</td>\n",
       "      <td>-2</td>\n",
       "      <td>-2</td>\n",
       "      <td>2</td>\n",
       "      <td>2</td>\n",
       "      <td>0</td>\n",
       "      <td>-2</td>\n",
       "    </tr>\n",
       "    <tr>\n",
       "      <th>2</th>\n",
       "      <td>-2</td>\n",
       "      <td>2</td>\n",
       "      <td>2</td>\n",
       "      <td>0</td>\n",
       "      <td>-2</td>\n",
       "      <td>-2</td>\n",
       "      <td>-2</td>\n",
       "      <td>-2</td>\n",
       "      <td>-2</td>\n",
       "      <td>-2</td>\n",
       "      <td>...</td>\n",
       "      <td>0</td>\n",
       "      <td>0</td>\n",
       "      <td>-2</td>\n",
       "      <td>2</td>\n",
       "      <td>-2</td>\n",
       "      <td>0</td>\n",
       "      <td>-2</td>\n",
       "      <td>-2</td>\n",
       "      <td>-2</td>\n",
       "      <td>-2</td>\n",
       "    </tr>\n",
       "    <tr>\n",
       "      <th>3</th>\n",
       "      <td>0</td>\n",
       "      <td>2</td>\n",
       "      <td>2</td>\n",
       "      <td>0</td>\n",
       "      <td>-2</td>\n",
       "      <td>-2</td>\n",
       "      <td>-2</td>\n",
       "      <td>-2</td>\n",
       "      <td>0</td>\n",
       "      <td>0</td>\n",
       "      <td>...</td>\n",
       "      <td>0</td>\n",
       "      <td>-2</td>\n",
       "      <td>-2</td>\n",
       "      <td>2</td>\n",
       "      <td>-2</td>\n",
       "      <td>-2</td>\n",
       "      <td>0</td>\n",
       "      <td>-2</td>\n",
       "      <td>0</td>\n",
       "      <td>-2</td>\n",
       "    </tr>\n",
       "    <tr>\n",
       "      <th>4</th>\n",
       "      <td>-2</td>\n",
       "      <td>-2</td>\n",
       "      <td>0</td>\n",
       "      <td>0</td>\n",
       "      <td>-2</td>\n",
       "      <td>-2</td>\n",
       "      <td>-2</td>\n",
       "      <td>0</td>\n",
       "      <td>-2</td>\n",
       "      <td>0</td>\n",
       "      <td>...</td>\n",
       "      <td>-2</td>\n",
       "      <td>0</td>\n",
       "      <td>-2</td>\n",
       "      <td>-2</td>\n",
       "      <td>-2</td>\n",
       "      <td>0</td>\n",
       "      <td>0</td>\n",
       "      <td>-2</td>\n",
       "      <td>-2</td>\n",
       "      <td>0</td>\n",
       "    </tr>\n",
       "  </tbody>\n",
       "</table>\n",
       "<p>5 rows × 2000 columns</p>\n",
       "</div>"
      ],
      "text/plain": [
       "   C1  C2  C3  C4  C5  C6  C7  C8  C9  C10  ...  C1991  C1992  C1993  C1994  \\\n",
       "0   2   0   0   0  -2   0  -2   0   2    0  ...     -2      0      0      0   \n",
       "1   2   2   0   0  -2   0   0   0   2    0  ...     -2      0     -2      0   \n",
       "2  -2   2   2   0  -2  -2  -2  -2  -2   -2  ...      0      0     -2      2   \n",
       "3   0   2   2   0  -2  -2  -2  -2   0    0  ...      0     -2     -2      2   \n",
       "4  -2  -2   0   0  -2  -2  -2   0  -2    0  ...     -2      0     -2     -2   \n",
       "\n",
       "   C1995  C1996  C1997  C1998  C1999  C2000  \n",
       "0      0     -2      0      0      2     -2  \n",
       "1     -2     -2      2      2      0     -2  \n",
       "2     -2      0     -2     -2     -2     -2  \n",
       "3     -2     -2      0     -2      0     -2  \n",
       "4     -2      0      0     -2     -2      0  \n",
       "\n",
       "[5 rows x 2000 columns]"
      ]
     },
     "execution_count": 15,
     "metadata": {},
     "output_type": "execute_result"
    }
   ],
   "source": [
    "mcolon.head()"
   ]
  },
  {
   "cell_type": "markdown",
   "metadata": {},
   "source": [
    "The head() display above shows that the column headers ranging from C1 to C2000 has been inserted"
   ]
  },
  {
   "cell_type": "code",
   "execution_count": 16,
   "metadata": {},
   "outputs": [
    {
     "data": {
      "text/plain": [
       "Index(['C1', 'C2', 'C3', 'C4', 'C5', 'C6', 'C7', 'C8', 'C9', 'C10',\n",
       "       ...\n",
       "       'C1991', 'C1992', 'C1993', 'C1994', 'C1995', 'C1996', 'C1997', 'C1998',\n",
       "       'C1999', 'C2000'],\n",
       "      dtype='object', length=2000)"
      ]
     },
     "execution_count": 16,
     "metadata": {},
     "output_type": "execute_result"
    }
   ],
   "source": [
    "mcolon.keys()"
   ]
  },
  {
   "cell_type": "markdown",
   "metadata": {},
   "source": [
    "### Data Analysis & Visualization"
   ]
  },
  {
   "cell_type": "markdown",
   "metadata": {},
   "source": [
    "For easier analysis of the colon data I appended the Y vales as the last column to mcolon and named it as LABEL "
   ]
  },
  {
   "cell_type": "code",
   "execution_count": 17,
   "metadata": {},
   "outputs": [],
   "source": [
    "dfc=pd.DataFrame(mcolon,columns=mcolon.columns)\n"
   ]
  },
  {
   "cell_type": "code",
   "execution_count": 18,
   "metadata": {},
   "outputs": [],
   "source": [
    "dfc['Label']=colondata['Y']\n"
   ]
  },
  {
   "cell_type": "code",
   "execution_count": 19,
   "metadata": {},
   "outputs": [
    {
     "data": {
      "text/html": [
       "<div>\n",
       "<style scoped>\n",
       "    .dataframe tbody tr th:only-of-type {\n",
       "        vertical-align: middle;\n",
       "    }\n",
       "\n",
       "    .dataframe tbody tr th {\n",
       "        vertical-align: top;\n",
       "    }\n",
       "\n",
       "    .dataframe thead th {\n",
       "        text-align: right;\n",
       "    }\n",
       "</style>\n",
       "<table border=\"1\" class=\"dataframe\">\n",
       "  <thead>\n",
       "    <tr style=\"text-align: right;\">\n",
       "      <th></th>\n",
       "      <th>C1</th>\n",
       "      <th>C2</th>\n",
       "      <th>C3</th>\n",
       "      <th>C4</th>\n",
       "      <th>C5</th>\n",
       "      <th>C6</th>\n",
       "      <th>C7</th>\n",
       "      <th>C8</th>\n",
       "      <th>C9</th>\n",
       "      <th>C10</th>\n",
       "      <th>...</th>\n",
       "      <th>C1992</th>\n",
       "      <th>C1993</th>\n",
       "      <th>C1994</th>\n",
       "      <th>C1995</th>\n",
       "      <th>C1996</th>\n",
       "      <th>C1997</th>\n",
       "      <th>C1998</th>\n",
       "      <th>C1999</th>\n",
       "      <th>C2000</th>\n",
       "      <th>Label</th>\n",
       "    </tr>\n",
       "  </thead>\n",
       "  <tbody>\n",
       "    <tr>\n",
       "      <th>0</th>\n",
       "      <td>2</td>\n",
       "      <td>0</td>\n",
       "      <td>0</td>\n",
       "      <td>0</td>\n",
       "      <td>-2</td>\n",
       "      <td>0</td>\n",
       "      <td>-2</td>\n",
       "      <td>0</td>\n",
       "      <td>2</td>\n",
       "      <td>0</td>\n",
       "      <td>...</td>\n",
       "      <td>0</td>\n",
       "      <td>0</td>\n",
       "      <td>0</td>\n",
       "      <td>0</td>\n",
       "      <td>-2</td>\n",
       "      <td>0</td>\n",
       "      <td>0</td>\n",
       "      <td>2</td>\n",
       "      <td>-2</td>\n",
       "      <td>-1</td>\n",
       "    </tr>\n",
       "    <tr>\n",
       "      <th>1</th>\n",
       "      <td>2</td>\n",
       "      <td>2</td>\n",
       "      <td>0</td>\n",
       "      <td>0</td>\n",
       "      <td>-2</td>\n",
       "      <td>0</td>\n",
       "      <td>0</td>\n",
       "      <td>0</td>\n",
       "      <td>2</td>\n",
       "      <td>0</td>\n",
       "      <td>...</td>\n",
       "      <td>0</td>\n",
       "      <td>-2</td>\n",
       "      <td>0</td>\n",
       "      <td>-2</td>\n",
       "      <td>-2</td>\n",
       "      <td>2</td>\n",
       "      <td>2</td>\n",
       "      <td>0</td>\n",
       "      <td>-2</td>\n",
       "      <td>1</td>\n",
       "    </tr>\n",
       "    <tr>\n",
       "      <th>2</th>\n",
       "      <td>-2</td>\n",
       "      <td>2</td>\n",
       "      <td>2</td>\n",
       "      <td>0</td>\n",
       "      <td>-2</td>\n",
       "      <td>-2</td>\n",
       "      <td>-2</td>\n",
       "      <td>-2</td>\n",
       "      <td>-2</td>\n",
       "      <td>-2</td>\n",
       "      <td>...</td>\n",
       "      <td>0</td>\n",
       "      <td>-2</td>\n",
       "      <td>2</td>\n",
       "      <td>-2</td>\n",
       "      <td>0</td>\n",
       "      <td>-2</td>\n",
       "      <td>-2</td>\n",
       "      <td>-2</td>\n",
       "      <td>-2</td>\n",
       "      <td>-1</td>\n",
       "    </tr>\n",
       "    <tr>\n",
       "      <th>3</th>\n",
       "      <td>0</td>\n",
       "      <td>2</td>\n",
       "      <td>2</td>\n",
       "      <td>0</td>\n",
       "      <td>-2</td>\n",
       "      <td>-2</td>\n",
       "      <td>-2</td>\n",
       "      <td>-2</td>\n",
       "      <td>0</td>\n",
       "      <td>0</td>\n",
       "      <td>...</td>\n",
       "      <td>-2</td>\n",
       "      <td>-2</td>\n",
       "      <td>2</td>\n",
       "      <td>-2</td>\n",
       "      <td>-2</td>\n",
       "      <td>0</td>\n",
       "      <td>-2</td>\n",
       "      <td>0</td>\n",
       "      <td>-2</td>\n",
       "      <td>1</td>\n",
       "    </tr>\n",
       "    <tr>\n",
       "      <th>4</th>\n",
       "      <td>-2</td>\n",
       "      <td>-2</td>\n",
       "      <td>0</td>\n",
       "      <td>0</td>\n",
       "      <td>-2</td>\n",
       "      <td>-2</td>\n",
       "      <td>-2</td>\n",
       "      <td>0</td>\n",
       "      <td>-2</td>\n",
       "      <td>0</td>\n",
       "      <td>...</td>\n",
       "      <td>0</td>\n",
       "      <td>-2</td>\n",
       "      <td>-2</td>\n",
       "      <td>-2</td>\n",
       "      <td>0</td>\n",
       "      <td>0</td>\n",
       "      <td>-2</td>\n",
       "      <td>-2</td>\n",
       "      <td>0</td>\n",
       "      <td>-1</td>\n",
       "    </tr>\n",
       "  </tbody>\n",
       "</table>\n",
       "<p>5 rows × 2001 columns</p>\n",
       "</div>"
      ],
      "text/plain": [
       "   C1  C2  C3  C4  C5  C6  C7  C8  C9  C10  ...  C1992  C1993  C1994  C1995  \\\n",
       "0   2   0   0   0  -2   0  -2   0   2    0  ...      0      0      0      0   \n",
       "1   2   2   0   0  -2   0   0   0   2    0  ...      0     -2      0     -2   \n",
       "2  -2   2   2   0  -2  -2  -2  -2  -2   -2  ...      0     -2      2     -2   \n",
       "3   0   2   2   0  -2  -2  -2  -2   0    0  ...     -2     -2      2     -2   \n",
       "4  -2  -2   0   0  -2  -2  -2   0  -2    0  ...      0     -2     -2     -2   \n",
       "\n",
       "   C1996  C1997  C1998  C1999  C2000  Label  \n",
       "0     -2      0      0      2     -2     -1  \n",
       "1     -2      2      2      0     -2      1  \n",
       "2      0     -2     -2     -2     -2     -1  \n",
       "3     -2      0     -2      0     -2      1  \n",
       "4      0      0     -2     -2      0     -1  \n",
       "\n",
       "[5 rows x 2001 columns]"
      ]
     },
     "execution_count": 19,
     "metadata": {},
     "output_type": "execute_result"
    }
   ],
   "source": [
    "dfc.head()"
   ]
  },
  {
   "cell_type": "markdown",
   "metadata": {},
   "source": [
    "Therefore, from the head display of dfc above it shows that:\n",
    "    1. The data has 2000 columns named C1 to C2000 \n",
    "    2. The label is appended as the last column on the table. "
   ]
  },
  {
   "cell_type": "markdown",
   "metadata": {},
   "source": [
    "#### Summary of basic statistics for the data"
   ]
  },
  {
   "cell_type": "code",
   "execution_count": 20,
   "metadata": {},
   "outputs": [
    {
     "data": {
      "text/html": [
       "<div>\n",
       "<style scoped>\n",
       "    .dataframe tbody tr th:only-of-type {\n",
       "        vertical-align: middle;\n",
       "    }\n",
       "\n",
       "    .dataframe tbody tr th {\n",
       "        vertical-align: top;\n",
       "    }\n",
       "\n",
       "    .dataframe thead th {\n",
       "        text-align: right;\n",
       "    }\n",
       "</style>\n",
       "<table border=\"1\" class=\"dataframe\">\n",
       "  <thead>\n",
       "    <tr style=\"text-align: right;\">\n",
       "      <th></th>\n",
       "      <th>C1</th>\n",
       "      <th>C2</th>\n",
       "      <th>C3</th>\n",
       "      <th>C4</th>\n",
       "      <th>C5</th>\n",
       "      <th>C6</th>\n",
       "      <th>C7</th>\n",
       "      <th>C8</th>\n",
       "      <th>C9</th>\n",
       "      <th>C10</th>\n",
       "      <th>...</th>\n",
       "      <th>C1992</th>\n",
       "      <th>C1993</th>\n",
       "      <th>C1994</th>\n",
       "      <th>C1995</th>\n",
       "      <th>C1996</th>\n",
       "      <th>C1997</th>\n",
       "      <th>C1998</th>\n",
       "      <th>C1999</th>\n",
       "      <th>C2000</th>\n",
       "      <th>Label</th>\n",
       "    </tr>\n",
       "  </thead>\n",
       "  <tbody>\n",
       "    <tr>\n",
       "      <th>count</th>\n",
       "      <td>62.000000</td>\n",
       "      <td>62.000000</td>\n",
       "      <td>62.000000</td>\n",
       "      <td>62.000000</td>\n",
       "      <td>62.000000</td>\n",
       "      <td>62.000000</td>\n",
       "      <td>62.000000</td>\n",
       "      <td>62.000000</td>\n",
       "      <td>62.000000</td>\n",
       "      <td>62.000000</td>\n",
       "      <td>...</td>\n",
       "      <td>62.000000</td>\n",
       "      <td>62.000000</td>\n",
       "      <td>62.000000</td>\n",
       "      <td>62.000000</td>\n",
       "      <td>62.000000</td>\n",
       "      <td>62.000000</td>\n",
       "      <td>62.000000</td>\n",
       "      <td>62.000000</td>\n",
       "      <td>62.000000</td>\n",
       "      <td>62.000000</td>\n",
       "    </tr>\n",
       "    <tr>\n",
       "      <th>mean</th>\n",
       "      <td>-0.225806</td>\n",
       "      <td>-0.290323</td>\n",
       "      <td>-0.193548</td>\n",
       "      <td>-0.225806</td>\n",
       "      <td>-0.290323</td>\n",
       "      <td>-0.161290</td>\n",
       "      <td>-0.225806</td>\n",
       "      <td>-0.161290</td>\n",
       "      <td>-0.129032</td>\n",
       "      <td>-0.258065</td>\n",
       "      <td>...</td>\n",
       "      <td>-0.225806</td>\n",
       "      <td>-0.193548</td>\n",
       "      <td>-0.193548</td>\n",
       "      <td>-0.354839</td>\n",
       "      <td>-0.258065</td>\n",
       "      <td>-0.322581</td>\n",
       "      <td>-0.387097</td>\n",
       "      <td>-0.129032</td>\n",
       "      <td>-0.290323</td>\n",
       "      <td>-0.290323</td>\n",
       "    </tr>\n",
       "    <tr>\n",
       "      <th>std</th>\n",
       "      <td>1.623792</td>\n",
       "      <td>1.692676</td>\n",
       "      <td>1.566438</td>\n",
       "      <td>1.453310</td>\n",
       "      <td>1.572167</td>\n",
       "      <td>1.549125</td>\n",
       "      <td>1.540910</td>\n",
       "      <td>1.506201</td>\n",
       "      <td>1.573175</td>\n",
       "      <td>1.425016</td>\n",
       "      <td>...</td>\n",
       "      <td>1.453310</td>\n",
       "      <td>1.607755</td>\n",
       "      <td>1.687356</td>\n",
       "      <td>1.472110</td>\n",
       "      <td>1.470313</td>\n",
       "      <td>1.411594</td>\n",
       "      <td>1.486054</td>\n",
       "      <td>1.487476</td>\n",
       "      <td>1.529889</td>\n",
       "      <td>0.964741</td>\n",
       "    </tr>\n",
       "    <tr>\n",
       "      <th>min</th>\n",
       "      <td>-2.000000</td>\n",
       "      <td>-2.000000</td>\n",
       "      <td>-2.000000</td>\n",
       "      <td>-2.000000</td>\n",
       "      <td>-2.000000</td>\n",
       "      <td>-2.000000</td>\n",
       "      <td>-2.000000</td>\n",
       "      <td>-2.000000</td>\n",
       "      <td>-2.000000</td>\n",
       "      <td>-2.000000</td>\n",
       "      <td>...</td>\n",
       "      <td>-2.000000</td>\n",
       "      <td>-2.000000</td>\n",
       "      <td>-2.000000</td>\n",
       "      <td>-2.000000</td>\n",
       "      <td>-2.000000</td>\n",
       "      <td>-2.000000</td>\n",
       "      <td>-2.000000</td>\n",
       "      <td>-2.000000</td>\n",
       "      <td>-2.000000</td>\n",
       "      <td>-1.000000</td>\n",
       "    </tr>\n",
       "    <tr>\n",
       "      <th>25%</th>\n",
       "      <td>-2.000000</td>\n",
       "      <td>-2.000000</td>\n",
       "      <td>-2.000000</td>\n",
       "      <td>-2.000000</td>\n",
       "      <td>-2.000000</td>\n",
       "      <td>-2.000000</td>\n",
       "      <td>-2.000000</td>\n",
       "      <td>-2.000000</td>\n",
       "      <td>-2.000000</td>\n",
       "      <td>-2.000000</td>\n",
       "      <td>...</td>\n",
       "      <td>-2.000000</td>\n",
       "      <td>-2.000000</td>\n",
       "      <td>-2.000000</td>\n",
       "      <td>-2.000000</td>\n",
       "      <td>-2.000000</td>\n",
       "      <td>-2.000000</td>\n",
       "      <td>-2.000000</td>\n",
       "      <td>-2.000000</td>\n",
       "      <td>-2.000000</td>\n",
       "      <td>-1.000000</td>\n",
       "    </tr>\n",
       "    <tr>\n",
       "      <th>50%</th>\n",
       "      <td>0.000000</td>\n",
       "      <td>0.000000</td>\n",
       "      <td>0.000000</td>\n",
       "      <td>0.000000</td>\n",
       "      <td>0.000000</td>\n",
       "      <td>0.000000</td>\n",
       "      <td>0.000000</td>\n",
       "      <td>0.000000</td>\n",
       "      <td>0.000000</td>\n",
       "      <td>0.000000</td>\n",
       "      <td>...</td>\n",
       "      <td>0.000000</td>\n",
       "      <td>0.000000</td>\n",
       "      <td>0.000000</td>\n",
       "      <td>0.000000</td>\n",
       "      <td>0.000000</td>\n",
       "      <td>0.000000</td>\n",
       "      <td>0.000000</td>\n",
       "      <td>0.000000</td>\n",
       "      <td>0.000000</td>\n",
       "      <td>-1.000000</td>\n",
       "    </tr>\n",
       "    <tr>\n",
       "      <th>75%</th>\n",
       "      <td>2.000000</td>\n",
       "      <td>2.000000</td>\n",
       "      <td>1.500000</td>\n",
       "      <td>0.000000</td>\n",
       "      <td>0.000000</td>\n",
       "      <td>1.500000</td>\n",
       "      <td>0.000000</td>\n",
       "      <td>0.000000</td>\n",
       "      <td>2.000000</td>\n",
       "      <td>0.000000</td>\n",
       "      <td>...</td>\n",
       "      <td>0.000000</td>\n",
       "      <td>2.000000</td>\n",
       "      <td>2.000000</td>\n",
       "      <td>0.000000</td>\n",
       "      <td>0.000000</td>\n",
       "      <td>0.000000</td>\n",
       "      <td>0.000000</td>\n",
       "      <td>0.000000</td>\n",
       "      <td>0.000000</td>\n",
       "      <td>1.000000</td>\n",
       "    </tr>\n",
       "    <tr>\n",
       "      <th>max</th>\n",
       "      <td>2.000000</td>\n",
       "      <td>2.000000</td>\n",
       "      <td>2.000000</td>\n",
       "      <td>2.000000</td>\n",
       "      <td>2.000000</td>\n",
       "      <td>2.000000</td>\n",
       "      <td>2.000000</td>\n",
       "      <td>2.000000</td>\n",
       "      <td>2.000000</td>\n",
       "      <td>2.000000</td>\n",
       "      <td>...</td>\n",
       "      <td>2.000000</td>\n",
       "      <td>2.000000</td>\n",
       "      <td>2.000000</td>\n",
       "      <td>2.000000</td>\n",
       "      <td>2.000000</td>\n",
       "      <td>2.000000</td>\n",
       "      <td>2.000000</td>\n",
       "      <td>2.000000</td>\n",
       "      <td>2.000000</td>\n",
       "      <td>1.000000</td>\n",
       "    </tr>\n",
       "  </tbody>\n",
       "</table>\n",
       "<p>8 rows × 2001 columns</p>\n",
       "</div>"
      ],
      "text/plain": [
       "              C1         C2         C3         C4         C5         C6  \\\n",
       "count  62.000000  62.000000  62.000000  62.000000  62.000000  62.000000   \n",
       "mean   -0.225806  -0.290323  -0.193548  -0.225806  -0.290323  -0.161290   \n",
       "std     1.623792   1.692676   1.566438   1.453310   1.572167   1.549125   \n",
       "min    -2.000000  -2.000000  -2.000000  -2.000000  -2.000000  -2.000000   \n",
       "25%    -2.000000  -2.000000  -2.000000  -2.000000  -2.000000  -2.000000   \n",
       "50%     0.000000   0.000000   0.000000   0.000000   0.000000   0.000000   \n",
       "75%     2.000000   2.000000   1.500000   0.000000   0.000000   1.500000   \n",
       "max     2.000000   2.000000   2.000000   2.000000   2.000000   2.000000   \n",
       "\n",
       "              C7         C8         C9        C10  ...      C1992      C1993  \\\n",
       "count  62.000000  62.000000  62.000000  62.000000  ...  62.000000  62.000000   \n",
       "mean   -0.225806  -0.161290  -0.129032  -0.258065  ...  -0.225806  -0.193548   \n",
       "std     1.540910   1.506201   1.573175   1.425016  ...   1.453310   1.607755   \n",
       "min    -2.000000  -2.000000  -2.000000  -2.000000  ...  -2.000000  -2.000000   \n",
       "25%    -2.000000  -2.000000  -2.000000  -2.000000  ...  -2.000000  -2.000000   \n",
       "50%     0.000000   0.000000   0.000000   0.000000  ...   0.000000   0.000000   \n",
       "75%     0.000000   0.000000   2.000000   0.000000  ...   0.000000   2.000000   \n",
       "max     2.000000   2.000000   2.000000   2.000000  ...   2.000000   2.000000   \n",
       "\n",
       "           C1994      C1995      C1996      C1997      C1998      C1999  \\\n",
       "count  62.000000  62.000000  62.000000  62.000000  62.000000  62.000000   \n",
       "mean   -0.193548  -0.354839  -0.258065  -0.322581  -0.387097  -0.129032   \n",
       "std     1.687356   1.472110   1.470313   1.411594   1.486054   1.487476   \n",
       "min    -2.000000  -2.000000  -2.000000  -2.000000  -2.000000  -2.000000   \n",
       "25%    -2.000000  -2.000000  -2.000000  -2.000000  -2.000000  -2.000000   \n",
       "50%     0.000000   0.000000   0.000000   0.000000   0.000000   0.000000   \n",
       "75%     2.000000   0.000000   0.000000   0.000000   0.000000   0.000000   \n",
       "max     2.000000   2.000000   2.000000   2.000000   2.000000   2.000000   \n",
       "\n",
       "           C2000      Label  \n",
       "count  62.000000  62.000000  \n",
       "mean   -0.290323  -0.290323  \n",
       "std     1.529889   0.964741  \n",
       "min    -2.000000  -1.000000  \n",
       "25%    -2.000000  -1.000000  \n",
       "50%     0.000000  -1.000000  \n",
       "75%     0.000000   1.000000  \n",
       "max     2.000000   1.000000  \n",
       "\n",
       "[8 rows x 2001 columns]"
      ]
     },
     "execution_count": 20,
     "metadata": {},
     "output_type": "execute_result"
    }
   ],
   "source": [
    "dfc.describe()"
   ]
  },
  {
   "cell_type": "markdown",
   "metadata": {},
   "source": [
    "The table describes the features in terms of mean, count, max etc and find the relationship wrt  the LABEL"
   ]
  },
  {
   "cell_type": "markdown",
   "metadata": {},
   "source": [
    "1. The count is 62, the number of samples provided in the dataset\n",
    "2. The dataset has two labels -1 and 1"
   ]
  },
  {
   "cell_type": "code",
   "execution_count": 21,
   "metadata": {},
   "outputs": [
    {
     "name": "stdout",
     "output_type": "stream",
     "text": [
      "<class 'pandas.core.frame.DataFrame'>\n",
      "RangeIndex: 62 entries, 0 to 61\n",
      "Columns: 2001 entries, C1 to Label\n",
      "dtypes: int16(2001)\n",
      "memory usage: 242.4 KB\n"
     ]
    }
   ],
   "source": [
    "dfc.info()\n"
   ]
  },
  {
   "cell_type": "markdown",
   "metadata": {},
   "source": [
    "#### To determine the unique labels to be predicted"
   ]
  },
  {
   "cell_type": "code",
   "execution_count": 22,
   "metadata": {},
   "outputs": [
    {
     "data": {
      "text/plain": [
       "array([-1,  1], dtype=int64)"
      ]
     },
     "execution_count": 22,
     "metadata": {},
     "output_type": "execute_result"
    }
   ],
   "source": [
    "dfc['Label'].unique()"
   ]
  },
  {
   "cell_type": "markdown",
   "metadata": {},
   "source": [
    "#### To determine the most common label "
   ]
  },
  {
   "cell_type": "code",
   "execution_count": 23,
   "metadata": {},
   "outputs": [
    {
     "data": {
      "text/plain": [
       "-1    40\n",
       " 1    22\n",
       "Name: Label, dtype: int64"
      ]
     },
     "execution_count": 23,
     "metadata": {},
     "output_type": "execute_result"
    }
   ],
   "source": [
    "dfc['Label'].value_counts()"
   ]
  },
  {
   "cell_type": "markdown",
   "metadata": {},
   "source": [
    "The count shows that the -1 type of colon os more common"
   ]
  },
  {
   "cell_type": "markdown",
   "metadata": {},
   "source": [
    "To Visualize the count"
   ]
  },
  {
   "cell_type": "code",
   "execution_count": 24,
   "metadata": {},
   "outputs": [
    {
     "data": {
      "text/plain": [
       "<matplotlib.axes._subplots.AxesSubplot at 0x235da3da278>"
      ]
     },
     "execution_count": 24,
     "metadata": {},
     "output_type": "execute_result"
    },
    {
     "data": {
      "image/png": "[encoded data removed]",
      "text/plain": [
       "<Figure size 432x288 with 1 Axes>"
      ]
     },
     "metadata": {
      "needs_background": "light"
     },
     "output_type": "display_data"
    }
   ],
   "source": [
    "sns .countplot(dfc['Label'])"
   ]
  },
  {
   "cell_type": "markdown",
   "metadata": {},
   "source": [
    "Using a pairplot to recreate the dataset"
   ]
  },
  {
   "cell_type": "code",
   "execution_count": 33,
   "metadata": {},
   "outputs": [
    {
     "data": {
      "text/html": [
       "<div>\n",
       "<style scoped>\n",
       "    .dataframe tbody tr th:only-of-type {\n",
       "        vertical-align: middle;\n",
       "    }\n",
       "\n",
       "    .dataframe tbody tr th {\n",
       "        vertical-align: top;\n",
       "    }\n",
       "\n",
       "    .dataframe thead th {\n",
       "        text-align: right;\n",
       "    }\n",
       "</style>\n",
       "<table border=\"1\" class=\"dataframe\">\n",
       "  <thead>\n",
       "    <tr style=\"text-align: right;\">\n",
       "      <th></th>\n",
       "      <th>C1</th>\n",
       "      <th>C100</th>\n",
       "      <th>C300</th>\n",
       "      <th>C500</th>\n",
       "      <th>C700</th>\n",
       "      <th>C1000</th>\n",
       "      <th>C1200</th>\n",
       "      <th>C1500</th>\n",
       "      <th>C1700</th>\n",
       "      <th>C2000</th>\n",
       "      <th>Label</th>\n",
       "    </tr>\n",
       "  </thead>\n",
       "  <tbody>\n",
       "    <tr>\n",
       "      <th>0</th>\n",
       "      <td>2</td>\n",
       "      <td>0</td>\n",
       "      <td>0</td>\n",
       "      <td>-2</td>\n",
       "      <td>0</td>\n",
       "      <td>2</td>\n",
       "      <td>-2</td>\n",
       "      <td>0</td>\n",
       "      <td>-2</td>\n",
       "      <td>-2</td>\n",
       "      <td>-1</td>\n",
       "    </tr>\n",
       "    <tr>\n",
       "      <th>1</th>\n",
       "      <td>2</td>\n",
       "      <td>0</td>\n",
       "      <td>2</td>\n",
       "      <td>0</td>\n",
       "      <td>0</td>\n",
       "      <td>2</td>\n",
       "      <td>0</td>\n",
       "      <td>2</td>\n",
       "      <td>0</td>\n",
       "      <td>-2</td>\n",
       "      <td>1</td>\n",
       "    </tr>\n",
       "    <tr>\n",
       "      <th>2</th>\n",
       "      <td>-2</td>\n",
       "      <td>-2</td>\n",
       "      <td>0</td>\n",
       "      <td>-2</td>\n",
       "      <td>0</td>\n",
       "      <td>0</td>\n",
       "      <td>-2</td>\n",
       "      <td>0</td>\n",
       "      <td>-2</td>\n",
       "      <td>-2</td>\n",
       "      <td>-1</td>\n",
       "    </tr>\n",
       "    <tr>\n",
       "      <th>3</th>\n",
       "      <td>0</td>\n",
       "      <td>-2</td>\n",
       "      <td>2</td>\n",
       "      <td>-2</td>\n",
       "      <td>-2</td>\n",
       "      <td>0</td>\n",
       "      <td>0</td>\n",
       "      <td>0</td>\n",
       "      <td>-2</td>\n",
       "      <td>-2</td>\n",
       "      <td>1</td>\n",
       "    </tr>\n",
       "    <tr>\n",
       "      <th>4</th>\n",
       "      <td>-2</td>\n",
       "      <td>-2</td>\n",
       "      <td>-2</td>\n",
       "      <td>0</td>\n",
       "      <td>-2</td>\n",
       "      <td>0</td>\n",
       "      <td>-2</td>\n",
       "      <td>-2</td>\n",
       "      <td>0</td>\n",
       "      <td>0</td>\n",
       "      <td>-1</td>\n",
       "    </tr>\n",
       "  </tbody>\n",
       "</table>\n",
       "</div>"
      ],
      "text/plain": [
       "   C1  C100  C300  C500  C700  C1000  C1200  C1500  C1700  C2000  Label\n",
       "0   2     0     0    -2     0      2     -2      0     -2     -2     -1\n",
       "1   2     0     2     0     0      2      0      2      0     -2      1\n",
       "2  -2    -2     0    -2     0      0     -2      0     -2     -2     -1\n",
       "3   0    -2     2    -2    -2      0      0      0     -2     -2      1\n",
       "4  -2    -2    -2     0    -2      0     -2     -2      0      0     -1"
      ]
     },
     "execution_count": 33,
     "metadata": {},
     "output_type": "execute_result"
    }
   ],
   "source": [
    "#I used a few varibles to plot the pairplot because of the dataset has 2000 features\n",
    "dfcs = dfc[['C1','C100','C300','C500','C700','C1000','C1200','C1500','C1700','C2000','Label']]\n",
    "\n",
    "dfcs.head()"
   ]
  },
  {
   "cell_type": "code",
   "execution_count": 72,
   "metadata": {},
   "outputs": [
    {
     "data": {
      "text/plain": [
       "{'divide': 'warn', 'over': 'warn', 'under': 'ignore', 'invalid': 'warn'}"
      ]
     },
     "execution_count": 72,
     "metadata": {},
     "output_type": "execute_result"
    }
   ],
   "source": [
    "# This is used to suppress the true-divide error\n",
    "np.seterr(divide='ignore', invalid='ignore')"
   ]
  },
  {
   "cell_type": "code",
   "execution_count": 73,
   "metadata": {},
   "outputs": [
    {
     "data": {
      "text/plain": [
       "<seaborn.axisgrid.PairGrid at 0x235e9211588>"
      ]
     },
     "execution_count": 73,
     "metadata": {},
     "output_type": "execute_result"
    },
    {
     "data": {
      "image/png": "[encoded data removed]",
      "text/plain": [
       "<Figure size 2025x1980 with 132 Axes>"
      ]
     },
     "metadata": {
      "needs_background": "light"
     },
     "output_type": "display_data"
    }
   ],
   "source": [
    "sns.pairplot(dfcs, hue = 'Label')"
   ]
  },
  {
   "cell_type": "markdown",
   "metadata": {},
   "source": [
    "blue = -1 and red = 1\n",
    "The data points are seperated based on the unique values in the label column"
   ]
  },
  {
   "cell_type": "markdown",
   "metadata": {},
   "source": [
    "### Machine Learning"
   ]
  },
  {
   "cell_type": "code",
   "execution_count": 36,
   "metadata": {},
   "outputs": [],
   "source": [
    "#Importing _test_train_split method\n",
    "from sklearn.model_selection import train_test_split"
   ]
  },
  {
   "cell_type": "code",
   "execution_count": 37,
   "metadata": {},
   "outputs": [],
   "source": [
    "#Sepeate data into fetaures and target label dataset\n",
    "X = dfc.drop('Label', axis = 1)\n",
    "y = dfc['Label']"
   ]
  },
  {
   "cell_type": "code",
   "execution_count": 38,
   "metadata": {},
   "outputs": [],
   "source": [
    "#Split the data into test train datasets \n",
    "X_train, X_test, y_train, y_test = train_test_split(\n",
    "    X, y, test_size=0.30, random_state=42)"
   ]
  },
  {
   "cell_type": "code",
   "execution_count": 39,
   "metadata": {},
   "outputs": [
    {
     "name": "stdout",
     "output_type": "stream",
     "text": [
      "number of training data: 43 43\n",
      "number of testing data: 19 19\n"
     ]
    }
   ],
   "source": [
    "print ('number of training data:',len(X_train),len(y_train))\n",
    "print ('number of testing data:',len(X_test),len(y_test))"
   ]
  },
  {
   "cell_type": "markdown",
   "metadata": {},
   "source": [
    "#### Import Logistic Regration Model"
   ]
  },
  {
   "cell_type": "code",
   "execution_count": 59,
   "metadata": {},
   "outputs": [],
   "source": [
    "from sklearn.linear_model import LogisticRegression"
   ]
  },
  {
   "cell_type": "code",
   "execution_count": 62,
   "metadata": {},
   "outputs": [],
   "source": [
    "logR = LogisticRegression(solver='lbfgs')#An Instance of logistic regression, solver='lbfgs' is sued to suppress future warning"
   ]
  },
  {
   "cell_type": "code",
   "execution_count": null,
   "metadata": {},
   "outputs": [],
   "source": []
  },
  {
   "cell_type": "code",
   "execution_count": null,
   "metadata": {},
   "outputs": [],
   "source": []
  },
  {
   "cell_type": "code",
   "execution_count": 63,
   "metadata": {},
   "outputs": [
    {
     "data": {
      "text/plain": [
       "LogisticRegression(C=1.0, class_weight=None, dual=False, fit_intercept=True,\n",
       "          intercept_scaling=1, max_iter=100, multi_class='warn',\n",
       "          n_jobs=None, penalty='l2', random_state=None, solver='lbfgs',\n",
       "          tol=0.0001, verbose=0, warm_start=False)"
      ]
     },
     "execution_count": 63,
     "metadata": {},
     "output_type": "execute_result"
    }
   ],
   "source": [
    "#Fitting the logistic regression model on the dataset\n",
    "logR.fit(X_train,y_train)"
   ]
  },
  {
   "cell_type": "markdown",
   "metadata": {},
   "source": [
    "### Prediction"
   ]
  },
  {
   "cell_type": "code",
   "execution_count": 64,
   "metadata": {},
   "outputs": [],
   "source": [
    "#Predict values for the model using the test dataset"
   ]
  },
  {
   "cell_type": "code",
   "execution_count": 65,
   "metadata": {},
   "outputs": [],
   "source": [
    "predictions = logR.predict(X_test)"
   ]
  },
  {
   "cell_type": "markdown",
   "metadata": {},
   "source": [
    "### Classification"
   ]
  },
  {
   "cell_type": "markdown",
   "metadata": {},
   "source": [
    "#### Classification report"
   ]
  },
  {
   "cell_type": "code",
   "execution_count": 66,
   "metadata": {},
   "outputs": [
    {
     "name": "stdout",
     "output_type": "stream",
     "text": [
      "              precision    recall  f1-score   support\n",
      "\n",
      "          -1       0.80      0.80      0.80        10\n",
      "           1       0.78      0.78      0.78         9\n",
      "\n",
      "   micro avg       0.79      0.79      0.79        19\n",
      "   macro avg       0.79      0.79      0.79        19\n",
      "weighted avg       0.79      0.79      0.79        19\n",
      "\n"
     ]
    }
   ],
   "source": [
    "from sklearn.metrics import classification_report\n",
    "print(classification_report(y_test,predictions))"
   ]
  },
  {
   "cell_type": "markdown",
   "metadata": {},
   "source": [
    "#### Confusion Matix"
   ]
  },
  {
   "cell_type": "code",
   "execution_count": 67,
   "metadata": {},
   "outputs": [],
   "source": [
    "from sklearn.metrics import confusion_matrix"
   ]
  },
  {
   "cell_type": "code",
   "execution_count": 68,
   "metadata": {},
   "outputs": [
    {
     "name": "stdout",
     "output_type": "stream",
     "text": [
      "[[8 2]\n",
      " [2 7]]\n"
     ]
    }
   ],
   "source": [
    "print(confusion_matrix(y_test, predictions))"
   ]
  },
  {
   "cell_type": "markdown",
   "metadata": {},
   "source": [
    "#### Classification Accuracy"
   ]
  },
  {
   "cell_type": "code",
   "execution_count": 69,
   "metadata": {},
   "outputs": [
    {
     "name": "stdout",
     "output_type": "stream",
     "text": [
      "0.7894736842105263\n"
     ]
    }
   ],
   "source": [
    "from sklearn.metrics import accuracy_score\n",
    "print(accuracy_score(y_test, predictions))"
   ]
  }
 ],
 "metadata": {
  "kernelspec": {
   "display_name": "Python 3",
   "language": "python",
   "name": "python3"
  },
  "language_info": {
   "codemirror_mode": {
    "name": "ipython",
    "version": 3
   },
   "file_extension": ".py",
   "mimetype": "text/x-python",
   "name": "python",
   "nbconvert_exporter": "python",
   "pygments_lexer": "ipython3",
   "version": "3.6.10"
  }
 },
 "nbformat": 4,
 "nbformat_minor": 2
}
